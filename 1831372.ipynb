{
 "cells": [
  {
   "cell_type": "markdown",
   "metadata": {
    "collapsed": false
   },
   "source": [
    "# 七日课 大作业：实现超分\n",
    "\n",
    "经过这几天的学习，相信大家对GAN已经有了一定的了解了，也在前面的作业中体验过GAN的一些应用了。那现在大家是不是想要升级一下难度，自己动手来训练一个模型呢？\n",
    "\n",
    "需要自己动手训练的大作业来啦，大作业内容为基于PaddleGAN中的超分模型，实现卡通画超分。\n"
   ]
  },
  {
   "cell_type": "markdown",
   "metadata": {
    "collapsed": false
   },
   "source": [
    "## 安装PaddleGAN\n",
    "\n",
    "PaddleGAN的安装目前支持Clone GitHub和Gitee两种方式："
   ]
  },
  {
   "cell_type": "code",
   "execution_count": null,
   "metadata": {
    "collapsed": false
   },
   "outputs": [
    {
     "name": "stdout",
     "output_type": "stream",
     "text": [
      "fatal: destination path 'PaddleGAN' already exists and is not an empty directory.\n",
      "/home/aistudio/PaddleGAN\n",
      "Created temporary directory: /tmp/pip-ephem-wheel-cache-5wux5lj8\n",
      "Created temporary directory: /tmp/pip-req-tracker-d3bb637q\n",
      "Created requirements tracker '/tmp/pip-req-tracker-d3bb637q'\n",
      "Created temporary directory: /tmp/pip-install-ntxbhq0j\n",
      "Looking in indexes: https://mirror.baidu.com/pypi/simple/\n",
      "Obtaining file:///home/aistudio/PaddleGAN\n",
      "  Added file:///home/aistudio/PaddleGAN to build tracker '/tmp/pip-req-tracker-d3bb637q'\n",
      "    Running setup.py (path:/home/aistudio/PaddleGAN/setup.py) egg_info for package from file:///home/aistudio/PaddleGAN\n",
      "    Running command python setup.py egg_info\n",
      "    running egg_info\n",
      "    writing ppgan.egg-info/PKG-INFO\n",
      "    writing dependency_links to ppgan.egg-info/dependency_links.txt\n",
      "    writing entry points to ppgan.egg-info/entry_points.txt\n",
      "    writing requirements to ppgan.egg-info/requires.txt\n",
      "    writing top-level names to ppgan.egg-info/top_level.txt\n",
      "    reading manifest file 'ppgan.egg-info/SOURCES.txt'\n",
      "    writing manifest file 'ppgan.egg-info/SOURCES.txt'\n",
      "  Source in /home/aistudio/PaddleGAN has version 0.1.0, which satisfies requirement ppgan==0.1.0 from file:///home/aistudio/PaddleGAN\n",
      "  Removed ppgan==0.1.0 from file:///home/aistudio/PaddleGAN from build tracker '/tmp/pip-req-tracker-d3bb637q'\n",
      "Requirement already satisfied: tqdm in /opt/conda/envs/python35-paddle120-env/lib/python3.7/site-packages (from ppgan==0.1.0) (4.36.1)\n",
      "Requirement already satisfied: PyYAML>=5.1 in /opt/conda/envs/python35-paddle120-env/lib/python3.7/site-packages (from ppgan==0.1.0) (5.1.2)\n",
      "Requirement already satisfied: scikit-image>=0.14.0 in /opt/conda/envs/python35-paddle120-env/lib/python3.7/site-packages (from ppgan==0.1.0) (0.18.1)\n",
      "Requirement already satisfied: scipy>=1.1.0 in /opt/conda/envs/python35-paddle120-env/lib/python3.7/site-packages (from ppgan==0.1.0) (1.3.0)\n",
      "Requirement already satisfied: opencv-python in /opt/conda/envs/python35-paddle120-env/lib/python3.7/site-packages (from ppgan==0.1.0) (4.1.1.26)\n",
      "Requirement already satisfied: imageio-ffmpeg in /opt/conda/envs/python35-paddle120-env/lib/python3.7/site-packages (from ppgan==0.1.0) (0.3.0)\n",
      "Requirement already satisfied: librosa==0.7.0 in /opt/conda/envs/python35-paddle120-env/lib/python3.7/site-packages (from ppgan==0.1.0) (0.7.0)\n",
      "Requirement already satisfied: numba==0.48 in /opt/conda/envs/python35-paddle120-env/lib/python3.7/site-packages (from ppgan==0.1.0) (0.48.0)\n",
      "Requirement already satisfied: easydict in /opt/conda/envs/python35-paddle120-env/lib/python3.7/site-packages (from ppgan==0.1.0) (1.9)\n",
      "Requirement already satisfied: imageio>=2.3.0 in /opt/conda/envs/python35-paddle120-env/lib/python3.7/site-packages (from scikit-image>=0.14.0->ppgan==0.1.0) (2.6.1)\n",
      "Requirement already satisfied: tifffile>=2019.7.26 in /opt/conda/envs/python35-paddle120-env/lib/python3.7/site-packages (from scikit-image>=0.14.0->ppgan==0.1.0) (2021.4.8)\n",
      "Requirement already satisfied: matplotlib!=3.0.0,>=2.0.0 in /opt/conda/envs/python35-paddle120-env/lib/python3.7/site-packages (from scikit-image>=0.14.0->ppgan==0.1.0) (2.2.3)\n",
      "Requirement already satisfied: numpy>=1.16.5 in /opt/conda/envs/python35-paddle120-env/lib/python3.7/site-packages (from scikit-image>=0.14.0->ppgan==0.1.0) (1.20.2)\n",
      "Requirement already satisfied: pillow!=7.1.0,!=7.1.1,>=4.3.0 in /opt/conda/envs/python35-paddle120-env/lib/python3.7/site-packages (from scikit-image>=0.14.0->ppgan==0.1.0) (7.1.2)\n",
      "Requirement already satisfied: networkx>=2.0 in /opt/conda/envs/python35-paddle120-env/lib/python3.7/site-packages (from scikit-image>=0.14.0->ppgan==0.1.0) (2.4)\n",
      "Requirement already satisfied: PyWavelets>=1.1.1 in /opt/conda/envs/python35-paddle120-env/lib/python3.7/site-packages (from scikit-image>=0.14.0->ppgan==0.1.0) (1.1.1)\n",
      "Requirement already satisfied: decorator>=3.0.0 in /opt/conda/envs/python35-paddle120-env/lib/python3.7/site-packages (from librosa==0.7.0->ppgan==0.1.0) (4.4.0)\n",
      "Requirement already satisfied: soundfile>=0.9.0 in /opt/conda/envs/python35-paddle120-env/lib/python3.7/site-packages (from librosa==0.7.0->ppgan==0.1.0) (0.10.3.post1)\n",
      "Requirement already satisfied: resampy>=0.2.0 in /opt/conda/envs/python35-paddle120-env/lib/python3.7/site-packages (from librosa==0.7.0->ppgan==0.1.0) (0.2.2)\n",
      "Requirement already satisfied: joblib>=0.12 in /opt/conda/envs/python35-paddle120-env/lib/python3.7/site-packages (from librosa==0.7.0->ppgan==0.1.0) (0.14.1)\n",
      "Requirement already satisfied: six>=1.3 in /opt/conda/envs/python35-paddle120-env/lib/python3.7/site-packages (from librosa==0.7.0->ppgan==0.1.0) (1.15.0)\n",
      "Requirement already satisfied: scikit-learn!=0.19.0,>=0.14.0 in /opt/conda/envs/python35-paddle120-env/lib/python3.7/site-packages (from librosa==0.7.0->ppgan==0.1.0) (0.22.1)\n",
      "Requirement already satisfied: audioread>=2.0.0 in /opt/conda/envs/python35-paddle120-env/lib/python3.7/site-packages (from librosa==0.7.0->ppgan==0.1.0) (2.1.8)\n",
      "Requirement already satisfied: llvmlite<0.32.0,>=0.31.0dev0 in /opt/conda/envs/python35-paddle120-env/lib/python3.7/site-packages (from numba==0.48->ppgan==0.1.0) (0.31.0)\n",
      "Requirement already satisfied: setuptools in /opt/conda/envs/python35-paddle120-env/lib/python3.7/site-packages (from numba==0.48->ppgan==0.1.0) (41.4.0)\n",
      "Requirement already satisfied: python-dateutil>=2.1 in /opt/conda/envs/python35-paddle120-env/lib/python3.7/site-packages (from matplotlib!=3.0.0,>=2.0.0->scikit-image>=0.14.0->ppgan==0.1.0) (2.8.0)\n",
      "Requirement already satisfied: cycler>=0.10 in /opt/conda/envs/python35-paddle120-env/lib/python3.7/site-packages (from matplotlib!=3.0.0,>=2.0.0->scikit-image>=0.14.0->ppgan==0.1.0) (0.10.0)\n",
      "Requirement already satisfied: pyparsing!=2.0.4,!=2.1.2,!=2.1.6,>=2.0.1 in /opt/conda/envs/python35-paddle120-env/lib/python3.7/site-packages (from matplotlib!=3.0.0,>=2.0.0->scikit-image>=0.14.0->ppgan==0.1.0) (2.4.2)\n",
      "Requirement already satisfied: kiwisolver>=1.0.1 in /opt/conda/envs/python35-paddle120-env/lib/python3.7/site-packages (from matplotlib!=3.0.0,>=2.0.0->scikit-image>=0.14.0->ppgan==0.1.0) (1.1.0)\n",
      "Requirement already satisfied: pytz in /opt/conda/envs/python35-paddle120-env/lib/python3.7/site-packages (from matplotlib!=3.0.0,>=2.0.0->scikit-image>=0.14.0->ppgan==0.1.0) (2019.3)\n",
      "Requirement already satisfied: cffi>=1.0 in /opt/conda/envs/python35-paddle120-env/lib/python3.7/site-packages (from soundfile>=0.9.0->librosa==0.7.0->ppgan==0.1.0) (1.14.0)\n",
      "Requirement already satisfied: pycparser in /opt/conda/envs/python35-paddle120-env/lib/python3.7/site-packages (from cffi>=1.0->soundfile>=0.9.0->librosa==0.7.0->ppgan==0.1.0) (2.19)\n",
      "Installing collected packages: ppgan\n",
      "  Found existing installation: ppgan 0.1.0\n",
      "    Uninstalling ppgan-0.1.0:\n",
      "      Created temporary directory: /tmp/pip-uninstall-m7k7rkza\n",
      "      Removing file or directory /opt/conda/envs/python35-paddle120-env/bin/paddlegan\n",
      "      Created temporary directory: /tmp/pip-uninstall-5sqgl8_c\n",
      "      Removing file or directory /opt/conda/envs/python35-paddle120-env/lib/python3.7/site-packages/ppgan.egg-link\n",
      "      Removing pth entries from /opt/conda/envs/python35-paddle120-env/lib/python3.7/site-packages/easy-install.pth:\n",
      "      Removing entry: /home/aistudio/PaddleGAN\n",
      "      Successfully uninstalled ppgan-0.1.0\n",
      "  Running setup.py develop for ppgan\n",
      "    Running command /opt/conda/envs/python35-paddle120-env/bin/python -c 'import sys, setuptools, tokenize; sys.argv[0] = '\"'\"'/home/aistudio/PaddleGAN/setup.py'\"'\"'; __file__='\"'\"'/home/aistudio/PaddleGAN/setup.py'\"'\"';f=getattr(tokenize, '\"'\"'open'\"'\"', open)(__file__);code=f.read().replace('\"'\"'\\r\\n'\"'\"', '\"'\"'\\n'\"'\"');f.close();exec(compile(code, __file__, '\"'\"'exec'\"'\"'))' develop --no-deps\n",
      "    running develop\n",
      "    running egg_info\n",
      "    writing ppgan.egg-info/PKG-INFO\n",
      "    writing dependency_links to ppgan.egg-info/dependency_links.txt\n",
      "    writing entry points to ppgan.egg-info/entry_points.txt\n",
      "    writing requirements to ppgan.egg-info/requires.txt\n",
      "    writing top-level names to ppgan.egg-info/top_level.txt\n",
      "    reading manifest file 'ppgan.egg-info/SOURCES.txt'\n",
      "    writing manifest file 'ppgan.egg-info/SOURCES.txt'\n",
      "    running build_ext\n",
      "    Creating /opt/conda/envs/python35-paddle120-env/lib/python3.7/site-packages/ppgan.egg-link (link to .)\n",
      "    Adding ppgan 0.1.0 to easy-install.pth file\n",
      "    Installing paddlegan script to /opt/conda/envs/python35-paddle120-env/bin\n",
      "\n",
      "    Installed /home/aistudio/PaddleGAN\n",
      "Successfully installed ppgan\n",
      "Cleaning up...\n",
      "Removed build tracker '/tmp/pip-req-tracker-d3bb637q'\n"
     ]
    }
   ],
   "source": [
    "# 安装ppgan\n",
    "# 当前目录在: /home/aistudio/, 这个目录也是左边文件和文件夹所在的目录\n",
    "# 克隆最新的PaddleGAN仓库到当前目录\n",
    "# !git clone https://github.com/PaddlePaddle/PaddleGAN.git\n",
    "# 如果从github下载慢可以从gitee clone：\n",
    "!git clone https://gitee.com/paddlepaddle/PaddleGAN.git\n",
    "# 安装Paddle GAN\n",
    "%cd PaddleGAN/\n",
    "!pip install -v -e ."
   ]
  },
  {
   "cell_type": "markdown",
   "metadata": {
    "collapsed": false
   },
   "source": [
    "### 数据准备\n",
    "我们为大家准备了处理好的超分数据集[卡通画超分数据集](https://aistudio.baidu.com/aistudio/datasetdetail/80790)"
   ]
  },
  {
   "cell_type": "code",
   "execution_count": null,
   "metadata": {
    "collapsed": false
   },
   "outputs": [
    {
     "name": "stdout",
     "output_type": "stream",
     "text": [
      "/home/aistudio\n",
      "replace data/animeSR/test_X4/Anime_407.jpg? [y]es, [n]o, [A]ll, [N]one, [r]ename: ^C\n",
      "mv: cannot move 'data/animeSR' to 'PaddleGAN/data/animeSR': Directory not empty\n"
     ]
    }
   ],
   "source": [
    "# 回到/home/aistudio/下\n",
    "%cd /home/aistudio\n",
    "# 解压数据\n",
    "!unzip -q data/data80790/animeSR.zip -d data/\n",
    "# 将解压后的数据链接到` /home/aistudio/PaddleGAN/data `目录下\n",
    "!mv data/animeSR PaddleGAN/data/"
   ]
  },
  {
   "cell_type": "markdown",
   "metadata": {
    "collapsed": false
   },
   "source": [
    "\n",
    "### 数据集的组成形式\n",
    "```\n",
    "    PaddleGAN\n",
    "      ├── data\n",
    "          ├── animeSR\n",
    "                ├── train\n",
    "                ├── train_X4\n",
    "                ├── test\n",
    "                └── test_X4\n",
    "  ```\n",
    "\n",
    "训练数据集包括400张卡通画，其中``` train ```中是高分辨率图像，``` train_X4 ```中是对应的4倍缩小的低分辨率图像。测试数据集包括20张卡通画，其中``` test ```中是高分辨率图像，``` test_X4 ```中是对应的4倍缩小的低分辨率图像。"
   ]
  },
  {
   "cell_type": "markdown",
   "metadata": {
    "collapsed": false
   },
   "source": [
    "### 数据可视化"
   ]
  },
  {
   "cell_type": "code",
   "execution_count": null,
   "metadata": {
    "collapsed": false
   },
   "outputs": [
    {
     "name": "stdout",
     "output_type": "stream",
     "text": [
      "训练集数据量: 400\n",
      "测试集数据量: 20\n"
     ]
    },
    {
     "data": {
      "text/plain": [
       "<Figure size 640x480 with 1 Axes>"
      ]
     },
     "metadata": {},
     "output_type": "display_data"
    }
   ],
   "source": [
    "import os\n",
    "import cv2\n",
    "import numpy as np\n",
    "import matplotlib.pyplot as plt\n",
    "# 训练数据统计\n",
    "train_names = os.listdir('PaddleGAN/data/animeSR/train')\n",
    "print(f'训练集数据量: {len(train_names)}')\n",
    "\n",
    "# 测试数据统计\n",
    "test_names = os.listdir('PaddleGAN/data/animeSR/test')\n",
    "print(f'测试集数据量: {len(test_names)}')\n",
    "\n",
    "# 训练数据可视化\n",
    "img = cv2.imread('PaddleGAN/data/animeSR/train/Anime_1.jpg')\n",
    "img = img[:,:,::-1]\n",
    "plt.figure()\n",
    "plt.imshow(img)\n",
    "plt.show()"
   ]
  },
  {
   "cell_type": "markdown",
   "metadata": {
    "collapsed": false
   },
   "source": [
    "### 选择超分模型\n",
    "\n",
    "PaddleGAN中提供的超分模型包括RealSR, ESRGAN, LESRCNN, DRN等，详情可见[超分模型](https://github.com/PaddlePaddle/PaddleGAN/blob/develop/docs/zh_CN/tutorials/super_resolution.md)。\n",
    "\n",
    "接下来以ESRGAN为例进行演示。"
   ]
  },
  {
   "cell_type": "markdown",
   "metadata": {
    "collapsed": false
   },
   "source": [
    "### 修改配置文件\n",
    " 所有模型的配置文件均在``` /home/aistudio/PaddleGAN/configs ```目录下。\n",
    " \n",
    " 找到你需要的模型的配置文件，修改模型参数，一般修改迭代次数，num_workers，batch_size以及数据集路径。有能力的同学也可以尝试修改其他参数，或者基于现有模型进行二次开发，模型代码在``` /home/aistudio/PaddleGAN/ppgan/models ```目录下。\n",
    " \n",
    " 以ESRGAN为例，这里将将配置文件``esrgan_psnr_x4_div2k.yaml``中的\n",
    " \n",
    " 参数``total_iters``改为50000\n",
    " \n",
    " 参数``dataset：train：num_workers``改为12\n",
    " \n",
    " 参数``dataset：train：batch_size``改为48\n",
    " \n",
    " 参数``dataset：train：gt_folder``改为data/animeSR/train\n",
    " \n",
    " 参数``dataset：train：lq_folder``改为data/animeSR/train_X4\n",
    " \n",
    " 参数``dataset：test：gt_folder``改为data/animeSR/test\n",
    " \n",
    " 参数``dataset：test：lq_folder``改为data/animeSR/test_X4\n",
    " "
   ]
  },
  {
   "cell_type": "markdown",
   "metadata": {
    "collapsed": false
   },
   "source": [
    "### 训练模型\n",
    "以ESRGAN为例，运行以下代码训练ESRGAN模型。\n",
    "\n",
    "如果希望使用其他模型训练，可以修改配置文件名字。"
   ]
  },
  {
   "cell_type": "code",
   "execution_count": 6,
   "metadata": {
    "collapsed": false
   },
   "outputs": [
    {
     "name": "stdout",
     "output_type": "stream",
     "text": [
      "[04/20 23:13:05] ppgan.engine.trainer INFO: Metric ssim: 0.7444\r"
     ]
    }
   ],
   "source": [
    "%cd /home/aistudio/PaddleGAN/\n",
    "!python -u tools/main.py --config-file configs/esrgan_psnr_x4_div2k.yaml"
   ]
  },
  {
   "cell_type": "markdown",
   "metadata": {
    "collapsed": false
   },
   "source": [
    "### 测试模型\n",
    "以ESRGAN为例，模型训练好后，运行以下代码测试ESRGAN模型。\n",
    "\n",
    "其中``/home/aistudio/pretrained_model/ESRGAN_PSNR_50000_weight.pdparams``是刚才ESRGAN训练的模型参数，同学们需要换成自己的模型参数。\n",
    "\n",
    "如果希望使用其他模型测试，可以修改配置文件名字。"
   ]
  },
  {
   "cell_type": "code",
   "execution_count": 13,
   "metadata": {
    "collapsed": false
   },
   "outputs": [
    {
     "name": "stdout",
     "output_type": "stream",
     "text": [
      "/home/aistudio\n"
     ]
    }
   ],
   "source": [
    "%cd .."
   ]
  },
  {
   "cell_type": "code",
   "execution_count": 14,
   "metadata": {
    "collapsed": false
   },
   "outputs": [
    {
     "name": "stdout",
     "output_type": "stream",
     "text": [
      "/home/aistudio/PaddleGAN\n",
      "/opt/conda/envs/python35-paddle120-env/lib/python3.7/site-packages/setuptools/depends.py:2: DeprecationWarning: the imp module is deprecated in favour of importlib; see the module's documentation for alternative uses\n",
      "  import imp\n",
      "/opt/conda/envs/python35-paddle120-env/lib/python3.7/site-packages/paddle/fluid/layers/utils.py:26: DeprecationWarning: `np.int` is a deprecated alias for the builtin `int`. To silence this warning, use `int` by itself. Doing this will not modify any behavior and is safe. When replacing `np.int`, you may wish to use e.g. `np.int64` or `np.int32` to specify the precision. If you wish to review your current use, check the release note link for additional information.\n",
      "Deprecated in NumPy 1.20; for more details and guidance: https://numpy.org/devdocs/release/1.20.0-notes.html#deprecations\n",
      "  def convert_to_list(value, n, name, dtype=np.int):\n",
      "/opt/conda/envs/python35-paddle120-env/lib/python3.7/site-packages/scipy/fftpack/__init__.py:103: DeprecationWarning: The module numpy.dual is deprecated.  Instead of using dual, use the functions directly from numpy or scipy.\n",
      "  from numpy.dual import register_func\n",
      "/opt/conda/envs/python35-paddle120-env/lib/python3.7/site-packages/scipy/special/orthogonal.py:81: DeprecationWarning: `np.int` is a deprecated alias for the builtin `int`. To silence this warning, use `int` by itself. Doing this will not modify any behavior and is safe. When replacing `np.int`, you may wish to use e.g. `np.int64` or `np.int32` to specify the precision. If you wish to review your current use, check the release note link for additional information.\n",
      "Deprecated in NumPy 1.20; for more details and guidance: https://numpy.org/devdocs/release/1.20.0-notes.html#deprecations\n",
      "  from numpy import (exp, inf, pi, sqrt, floor, sin, cos, around, int,\n",
      "/opt/conda/envs/python35-paddle120-env/lib/python3.7/site-packages/scipy/io/matlab/mio5.py:98: DeprecationWarning: `np.bool` is a deprecated alias for the builtin `bool`. To silence this warning, use `bool` by itself. Doing this will not modify any behavior and is safe. If you specifically wanted the numpy scalar type, use `np.bool_` here.\n",
      "Deprecated in NumPy 1.20; for more details and guidance: https://numpy.org/devdocs/release/1.20.0-notes.html#deprecations\n",
      "  from .mio5_utils import VarReader5\n",
      "[04/20 23:58:54] ppgan INFO: Configs: {'total_iters': 10000, 'output_dir': 'output_dir/esrgan_psnr_x4_div2k-2021-04-20-23-58', 'min_max': (0.0, 1.0), 'model': {'name': 'BaseSRModel', 'generator': {'name': 'RRDBNet', 'in_nc': 3, 'out_nc': 3, 'nf': 64, 'nb': 23}, 'pixel_criterion': {'name': 'L1Loss'}}, 'dataset': {'train': {'name': 'SRDataset', 'gt_folder': 'data/animeSR/train', 'lq_folder': 'data/animeSR/train_X4', 'num_workers': 4, 'batch_size': 16, 'scale': 4, 'preprocess': [{'name': 'LoadImageFromFile', 'key': 'lq'}, {'name': 'LoadImageFromFile', 'key': 'gt'}, {'name': 'Transforms', 'input_keys': ['lq', 'gt'], 'pipeline': [{'name': 'SRPairedRandomCrop', 'gt_patch_size': 128, 'scale': 4, 'keys': ['image', 'image']}, {'name': 'PairedRandomHorizontalFlip', 'keys': ['image', 'image']}, {'name': 'PairedRandomVerticalFlip', 'keys': ['image', 'image']}, {'name': 'PairedRandomTransposeHW', 'keys': ['image', 'image']}, {'name': 'Transpose', 'keys': ['image', 'image']}, {'name': 'Normalize', 'mean': [0.0, 0.0, 0.0], 'std': [255.0, 255.0, 255.0], 'keys': ['image', 'image']}]}]}, 'test': {'name': 'SRDataset', 'gt_folder': 'data/animeSR/test', 'lq_folder': 'data/animeSR/test_X4', 'scale': 4, 'preprocess': [{'name': 'LoadImageFromFile', 'key': 'lq'}, {'name': 'LoadImageFromFile', 'key': 'gt'}, {'name': 'Transforms', 'input_keys': ['lq', 'gt'], 'pipeline': [{'name': 'Transpose', 'keys': ['image', 'image']}, {'name': 'Normalize', 'mean': [0.0, 0.0, 0.0], 'std': [255.0, 255.0, 255.0], 'keys': ['image', 'image']}]}]}}, 'lr_scheduler': {'name': 'CosineAnnealingRestartLR', 'learning_rate': 0.0002, 'periods': [250000, 250000, 250000, 250000], 'restart_weights': [1, 1, 1, 1], 'eta_min': 1e-07}, 'optimizer': {'name': 'Adam', 'net_names': ['generator'], 'beta1': 0.9, 'beta2': 0.99}, 'validate': {'interval': 5000, 'save_img': False, 'metrics': {'psnr': {'name': 'PSNR', 'crop_border': 4, 'test_y_channel': True}, 'ssim': {'name': 'SSIM', 'crop_border': 4, 'test_y_channel': True}}}, 'log_config': {'interval': 10, 'visiual_interval': 500}, 'snapshot_config': {'interval': 1000}, 'is_train': False, 'timestamp': '-2021-04-20-23-58'}\n",
      "W0420 23:58:54.654376  1202 device_context.cc:362] Please NOTE: device: 0, GPU Compute Capability: 7.0, Driver API Version: 11.0, Runtime API Version: 10.1\n",
      "W0420 23:58:54.658738  1202 device_context.cc:372] device: 0, cuDNN Version: 7.6.\n",
      "[04/20 23:58:59] ppgan.engine.trainer INFO: Loaded pretrained weight for net generator\n",
      "/opt/conda/envs/python35-paddle120-env/lib/python3.7/site-packages/paddle/fluid/dataloader/dataloader_iter.py:89: DeprecationWarning: `np.bool` is a deprecated alias for the builtin `bool`. To silence this warning, use `bool` by itself. Doing this will not modify any behavior and is safe. If you specifically wanted the numpy scalar type, use `np.bool_` here.\n",
      "Deprecated in NumPy 1.20; for more details and guidance: https://numpy.org/devdocs/release/1.20.0-notes.html#deprecations\n",
      "  if isinstance(slot[0], (np.ndarray, np.bool, numbers.Number)):\n",
      "[04/20 23:59:03] ppgan.engine.trainer INFO: Test iter: [0/20]\n",
      "[04/20 23:59:29] ppgan.engine.trainer INFO: Test iter: [10/20]\n",
      "[04/20 23:59:51] ppgan.engine.trainer INFO: Metric psnr: 24.7945\n",
      "[04/20 23:59:51] ppgan.engine.trainer INFO: Metric ssim: 0.7444\n"
     ]
    }
   ],
   "source": [
    "%cd /home/aistudio/PaddleGAN/\n",
    "!python tools/main.py --config-file configs/esrgan_psnr_x4_div2k.yaml --evaluate-only --load output_dir/esrgan_psnr_x4_div2k-2021-04-20-22-06/iter_10000_checkpoint.pdparams"
   ]
  },
  {
   "cell_type": "markdown",
   "metadata": {
    "collapsed": false
   },
   "source": [
    "### 实验结果展示及模型下载\n",
    "这里使用ESRGAN模型训练了一个基于PSNR指标的预测模型和一个基于GAN的预测模型。\n",
    "\n",
    "数值结果展示及模型下载\n",
    "\n",
    "| 方法 | 数据集 | 迭代次数 | 训练时长 | PSNR | SSIM | 模型下载 |\n",
    "|---|---|---|---|---|---|---|\n",
    "| ESRGAN_PSNR  | 卡通画超分数据集 | 50000 | 13.5h | 25.4782 | 0.7608 |[ESRGAN_PSNR](./pretrained_model/ESRGAN_PSNR_50000_weight.pdparams)|\n",
    "| ESRGAN_GAN  | 卡通画超分数据集 | 50000 | 11h | 21.4148 | 0.6176 |[ESRGAN_GAN](./pretrained_model/ESRGAN_GAN_50000_weight.pdparams)|\n",
    "\n",
    "可视化\n",
    "| 低分辨率 | ESRGAN_PSNR | ESRGAN_GAN | GT |\n",
    "|---|---|---|---|\n",
    "|![](./image/Anime_401_lq.png)|![](./image/Anime_401_psnr.png)|![](./image/Anime_401_gan.png)|![](./image/Anime_401_gt.png)|\n",
    "|![](./image/Anime_407_lq.png)|![](./image/Anime_407_psnr.png)|![](./image/Anime_407_gan.png)|![](./image/Anime_407_gt.png)|\n",
    "\n"
   ]
  },
  {
   "cell_type": "code",
   "execution_count": null,
   "metadata": {
    "collapsed": false
   },
   "outputs": [],
   "source": []
  }
 ],
 "metadata": {
  "kernelspec": {
   "display_name": "PaddlePaddle 2.0.0b0 (Python 3.5)",
   "language": "python",
   "name": "py35-paddle1.2.0"
  },
  "language_info": {
   "codemirror_mode": {
    "name": "ipython",
    "version": 3
   },
   "file_extension": ".py",
   "mimetype": "text/x-python",
   "name": "python",
   "nbconvert_exporter": "python",
   "pygments_lexer": "ipython3",
   "version": "3.7.4"
  }
 },
 "nbformat": 4,
 "nbformat_minor": 1
}
